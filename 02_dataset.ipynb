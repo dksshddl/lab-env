{
 "cells": [
  {
   "cell_type": "code",
   "execution_count": 3,
   "id": "f1a92d37-e004-4a96-b2fd-6e67a9cc19ec",
   "metadata": {},
   "outputs": [],
   "source": [
    "from datetime import timedelta, datetime\n",
    "import random\n",
    "import time\n",
    "import requests\n",
    "import json\n",
    "import os\n",
    "\n",
    "from tqdm.notebook import tqdm\n",
    "import pandas as pd\n",
    "\n",
    "weather_api = f\"https://api.openweathermap.org/data/3.0/onecall/timemachine?lat={lat}&lon={lon}&dt=1640995200&appid={openweather_key}\"\n",
    "\n",
    "# https://openweathermap.org/api/one-call-3#history\n",
    "openweather_key = \"\"\n",
    "lat, lon = 37.5635694444444, 126.980008333333"
   ]
  },
  {
   "cell_type": "code",
   "execution_count": 29,
   "id": "c16055c0-4c8c-4918-ab29-86d44dee0fef",
   "metadata": {
    "tags": []
   },
   "outputs": [
    {
     "data": {
      "application/vnd.jupyter.widget-view+json": {
       "model_id": "0fd50d2899f34c8aa4c03541210ad4b9",
       "version_major": 2,
       "version_minor": 0
      },
      "text/plain": [
       "  0%|          | 0/744 [00:00<?, ?it/s]"
      ]
     },
     "metadata": {},
     "output_type": "display_data"
    }
   ],
   "source": [
    "start_date = datetime(2024, 12, 1)\n",
    "end_date = datetime(2024, 12, 31)\n",
    "\n",
    "datetime_list = [\n",
    "    start_date + timedelta(hours=x) \n",
    "    for x in range(int((end_date - start_date).total_seconds() // 3600) + 24)\n",
    "]\n",
    "\n",
    "existing_dates = set()\n",
    "if os.path.exists('weather_data_more.csv'):\n",
    "    existing_dates = set(pd.read_csv('weather_data_more.csv')['datetime'])\n",
    "\n",
    "if not os.path.exists('weather_data.csv'):\n",
    "    pd.DataFrame(columns=[\n",
    "        'datetime', 'dt', 'sunrise', 'sunset', 'temp', \n",
    "        'feels_like', 'pressure', 'humidity', 'dew_point',\n",
    "        'uvi', 'clouds', 'visibility', 'wind_speed', 'wind_deg',\n",
    "        'rain', 'snow', 'weather'\n",
    "    ]).to_csv('weather_data_more.csv', index=False)\n",
    "\n",
    "\n",
    "for dt in tqdm(datetime_list):\n",
    "    dt_str = dt.strftime(\"%Y%m%d\")\n",
    "    if dt_str in existing_dates:\n",
    "        continue\n",
    "    weather_api = f\"https://api.openweathermap.org/data/3.0/onecall/timemachine?lat={lat}&lon={lon}&dt={int(dt.timestamp())}&appid={openweather_key}&units=metric\"\n",
    "    try:\n",
    "        resp = requests.get(weather_api)\n",
    "        if resp.status_code == 200:\n",
    "            data = resp.json()\n",
    "            current = data.get('data', [{}])[0]\n",
    "            \n",
    "            rain_1h = current.get('rain', {}).get('1h', 0)\n",
    "            snow_1h = current.get('snow', {}).get('1h', 0)\n",
    "\n",
    "            weather_info = {\n",
    "                'datetime': dt_str,\n",
    "                'dt': current.get('dt', None),\n",
    "                'sunrise': current.get('sunrise', None),\n",
    "                'sunset': current.get('sunset', None),\n",
    "                'temp': current.get('temp', None),\n",
    "                'feels_like': current.get('feels_like', None),\n",
    "                'pressure': current.get('pressure', None),\n",
    "                'humidity': current.get('humidity', None),\n",
    "                'dew_point': current.get('dew_point', None),\n",
    "                'uvi': current.get('uvi', None),\n",
    "                'clouds': current.get('clouds', None),\n",
    "                'visibility': current.get('visibility', None),\n",
    "                'wind_speed': current.get('wind_speed', None),\n",
    "                'wind_deg': current.get('wind_deg', None),\n",
    "                \"rain\": rain_1h,\n",
    "                \"snow\": snow_1h,\n",
    "                \"weather\": current.get('weather', [{}])[0].get(\"main\", None)\n",
    "            }\n",
    "            pd.DataFrame([weather_info]).to_csv('weather_data_more.csv', \n",
    "                                  mode='a', \n",
    "                                  header=False,\n",
    "                                  index=False)\n",
    "    except Exception as e:\n",
    "        print(f\"Error for {dt}: {e}\")\n"
   ]
  },
  {
   "cell_type": "code",
   "execution_count": 9,
   "id": "70b6e61d-5360-41b2-b80d-476b374c66f1",
   "metadata": {
    "tags": []
   },
   "outputs": [
    {
     "data": {
      "text/plain": [
       "480"
      ]
     },
     "execution_count": 9,
     "metadata": {},
     "output_type": "execute_result"
    }
   ],
   "source": [
    "random_datetimes = []\n",
    "\n",
    "# https://openweathermap.org/api/one-call-3#history\n",
    "openweather_key = \"6a70e468ada37307dfc2cde61fc39f56\"\n",
    "lat, lon = 37.5635694444444, 126.980008333333\n",
    "\n",
    "for month in range(1, 7):\n",
    "\n",
    "    start_date = datetime(2025, month, 1)\n",
    "    if month == 6:\n",
    "        end_date = datetime(2025, 6, 1)\n",
    "    else:\n",
    "        end_date = datetime(2025, month + 1, 1) - timedelta(days=1)\n",
    "    \n",
    "    # 5개 샘플 생성\n",
    "    for _ in range(80):\n",
    "        # 랜덤 날짜 생성\n",
    "        delta_days = (end_date - start_date).days\n",
    "        rand_day = start_date + timedelta(days=random.randint(0, delta_days))\n",
    "        rand_hour = random.randint(0, 23)\n",
    "        rand_datetime = datetime(\n",
    "            rand_day.year, rand_day.month, rand_day.day,\n",
    "            rand_hour\n",
    "        )\n",
    "        random_datetimes.append(rand_datetime)\n",
    "\n",
    "# 출력 예시\n",
    "len(random_datetimes)"
   ]
  },
  {
   "cell_type": "code",
   "execution_count": 11,
   "id": "b34d6131-fdd0-4145-9e2e-7a98dff5e63b",
   "metadata": {
    "tags": []
   },
   "outputs": [
    {
     "data": {
      "application/vnd.jupyter.widget-view+json": {
       "model_id": "e5747b0627c647e282857c121d752b45",
       "version_major": 2,
       "version_minor": 0
      },
      "text/plain": [
       "  0%|          | 0/480 [00:00<?, ?it/s]"
      ]
     },
     "metadata": {},
     "output_type": "display_data"
    }
   ],
   "source": [
    "file_name = \"weather_data_random_recent.csv\"\n",
    "if not os.path.exists(file_name):\n",
    "    pd.DataFrame(columns=[\n",
    "        'datetime', 'dt', 'sunrise', 'sunset', 'temp', \n",
    "        'feels_like', 'pressure', 'humidity', 'dew_point',\n",
    "        'uvi', 'clouds', 'visibility', 'wind_speed', 'wind_deg',\n",
    "        'rain', 'snow', 'weather'\n",
    "    ]).to_csv(file_name, index=False)\n",
    "\n",
    "    \n",
    "for dt in tqdm(random_datetimes):\n",
    "    dt_str = dt.strftime(\"%Y%m%d\")\n",
    "\n",
    "    weather_api = f\"https://api.openweathermap.org/data/3.0/onecall/timemachine?lat={lat}&lon={lon}&dt={int(dt.timestamp())}&appid={openweather_key}&units=metric\"\n",
    "    try:\n",
    "        resp = requests.get(weather_api)\n",
    "        if resp.status_code == 200:\n",
    "            data = resp.json()\n",
    "            current = data.get('data', [{}])[0]\n",
    "            # rain과 snow 데이터 추출 (있는 경우에만)\n",
    "            rain_1h = current.get('rain', {}).get('1h', 0)\n",
    "            snow_1h = current.get('snow', {}).get('1h', 0)\n",
    "\n",
    "            weather_info = {\n",
    "                'datetime': dt_str,\n",
    "                'dt': current.get('dt', None),\n",
    "                'sunrise': current.get('sunrise', None),\n",
    "                'sunset': current.get('sunset', None),\n",
    "                'temp': current.get('temp', None),\n",
    "                'feels_like': current.get('feels_like', None),\n",
    "                'pressure': current.get('pressure', None),\n",
    "                'humidity': current.get('humidity', None),\n",
    "                'dew_point': current.get('dew_point', None),\n",
    "                'uvi': current.get('uvi', None),\n",
    "                'clouds': current.get('clouds', None),\n",
    "                'visibility': current.get('visibility', None),\n",
    "                'wind_speed': current.get('wind_speed', None),\n",
    "                'wind_deg': current.get('wind_deg', None),\n",
    "                \"rain\": rain_1h,\n",
    "                \"snow\": snow_1h,\n",
    "                \"weather\": current.get('weather', [{}])[0].get(\"main\", None)\n",
    "            }\n",
    "            pd.DataFrame([weather_info]).to_csv(file_name, \n",
    "                                  mode='a', \n",
    "                                  header=False,\n",
    "                                  index=False)\n",
    "    except Exception as e:\n",
    "        print(f\"Error for {dt}: {e}\")"
   ]
  },
  {
   "cell_type": "code",
   "execution_count": null,
   "id": "9a8e11a3-b29e-41df-a18e-5d4c65345994",
   "metadata": {},
   "outputs": [],
   "source": [
    "def add_weather_columes(file_path):\n",
    "    columns = [\n",
    "        'datetime', 'dt', 'sunrise', 'sunset', 'temp', \n",
    "        'feels_like', 'pressure', 'humidity', 'dew_point',\n",
    "        'uvi', 'clouds', 'visibility', 'wind_speed', 'wind_deg',\n",
    "        'rain', 'snow', 'weather'\n",
    "    ]\n",
    "    df = pd.read_csv(file_path, names=columns)\n",
    "    df.columns = columns\n",
    "    df.to_csv(file_path, index=False)\n",
    "\n",
    "add_weather_columes(file_name)"
   ]
  },
  {
   "cell_type": "code",
   "execution_count": 21,
   "id": "0408838c-40a5-444c-a6cc-7a5ac44167cc",
   "metadata": {},
   "outputs": [
    {
     "data": {
      "text/plain": [
       "datetime        0\n",
       "dt              0\n",
       "sunrise         0\n",
       "sunset          0\n",
       "temp            0\n",
       "feels_like      0\n",
       "pressure        0\n",
       "humidity        0\n",
       "dew_point       0\n",
       "uvi           480\n",
       "clouds          0\n",
       "visibility     22\n",
       "wind_speed      0\n",
       "wind_deg        0\n",
       "rain            0\n",
       "snow            0\n",
       "weather         0\n",
       "dtype: int64"
      ]
     },
     "execution_count": 21,
     "metadata": {},
     "output_type": "execute_result"
    }
   ],
   "source": [
    "df = pd.read_csv(file_name)\n",
    "df.isna().sum()"
   ]
  },
  {
   "cell_type": "code",
   "execution_count": 23,
   "id": "c0391473-4d65-4ad9-832e-156541f7c523",
   "metadata": {},
   "outputs": [
    {
     "data": {
      "text/plain": [
       "datetime      0\n",
       "dt            0\n",
       "sunrise       0\n",
       "sunset        0\n",
       "temp          0\n",
       "feels_like    0\n",
       "pressure      0\n",
       "humidity      0\n",
       "dew_point     0\n",
       "clouds        0\n",
       "visibility    0\n",
       "wind_speed    0\n",
       "wind_deg      0\n",
       "rain          0\n",
       "snow          0\n",
       "weather       0\n",
       "dtype: int64"
      ]
     },
     "execution_count": 23,
     "metadata": {},
     "output_type": "execute_result"
    }
   ],
   "source": [
    "df_droped = df.drop('uvi', axis=1)\n",
    "df_droped['visibility'].fillna(df['visibility'].mean(), inplace=True)\n",
    "df_droped.isna().sum()"
   ]
  },
  {
   "cell_type": "code",
   "execution_count": 2,
   "id": "2c47a5d4-3ebd-4f93-adc6-e5a2aed13ee8",
   "metadata": {},
   "outputs": [
    {
     "data": {
      "text/html": [
       "<div>\n",
       "<style scoped>\n",
       "    .dataframe tbody tr th:only-of-type {\n",
       "        vertical-align: middle;\n",
       "    }\n",
       "\n",
       "    .dataframe tbody tr th {\n",
       "        vertical-align: top;\n",
       "    }\n",
       "\n",
       "    .dataframe thead th {\n",
       "        text-align: right;\n",
       "    }\n",
       "</style>\n",
       "<table border=\"1\" class=\"dataframe\">\n",
       "  <thead>\n",
       "    <tr style=\"text-align: right;\">\n",
       "      <th></th>\n",
       "      <th>datetime</th>\n",
       "      <th>isHoliday</th>\n",
       "    </tr>\n",
       "  </thead>\n",
       "  <tbody>\n",
       "    <tr>\n",
       "      <th>0</th>\n",
       "      <td>2025-01-13</td>\n",
       "      <td>False</td>\n",
       "    </tr>\n",
       "    <tr>\n",
       "      <th>1</th>\n",
       "      <td>2025-01-29</td>\n",
       "      <td>True</td>\n",
       "    </tr>\n",
       "    <tr>\n",
       "      <th>2</th>\n",
       "      <td>2025-01-23</td>\n",
       "      <td>False</td>\n",
       "    </tr>\n",
       "    <tr>\n",
       "      <th>3</th>\n",
       "      <td>2025-01-31</td>\n",
       "      <td>False</td>\n",
       "    </tr>\n",
       "    <tr>\n",
       "      <th>4</th>\n",
       "      <td>2025-01-28</td>\n",
       "      <td>True</td>\n",
       "    </tr>\n",
       "  </tbody>\n",
       "</table>\n",
       "</div>"
      ],
      "text/plain": [
       "    datetime  isHoliday\n",
       "0 2025-01-13      False\n",
       "1 2025-01-29       True\n",
       "2 2025-01-23      False\n",
       "3 2025-01-31      False\n",
       "4 2025-01-28       True"
      ]
     },
     "execution_count": 2,
     "metadata": {},
     "output_type": "execute_result"
    }
   ],
   "source": [
    "holiday = [\n",
    "    \"20240101\", \"20240209\", \"20240212\", \"20240301\", \"20240410\",\n",
    "    \"20240506\", \"20240515\", \"20240606\", \"20240815\", \"20240916\",\n",
    "    \"20240917\", \"20240918\", \"20241003\", \"20241009\", \"20241225\",\n",
    "    \"20250101\", \"20250127\", \"20250128\", \"20250129\", \"20250130\",\n",
    "    \"20250303\", \"20250505\", \"20250506\"\n",
    "]\n",
    "\n",
    "holiday_dates = pd.to_datetime(holiday, format=\"%Y%m%d\")\n",
    "df[\"datetime\"] = pd.to_datetime(df[\"datetime\"], format=\"%Y%m%d\")\n",
    "\n",
    "\n",
    "df[\"isHoliday\"] = df[\"datetime\"].dt.date.isin(holiday_dates.date)\n",
    "df[[\"datetime\", \"isHoliday\"]].head()"
   ]
  }
 ],
 "metadata": {
  "kernelspec": {
   "display_name": "Python 3 (ipykernel)",
   "language": "python",
   "name": "python3"
  },
  "language_info": {
   "codemirror_mode": {
    "name": "ipython",
    "version": 3
   },
   "file_extension": ".py",
   "mimetype": "text/x-python",
   "name": "python",
   "nbconvert_exporter": "python",
   "pygments_lexer": "ipython3",
   "version": "3.11.10"
  }
 },
 "nbformat": 4,
 "nbformat_minor": 5
}
