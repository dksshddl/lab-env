{
 "cells": [
  {
   "cell_type": "code",
   "execution_count": 1,
   "id": "aa75b18d-7913-489b-a425-20ab3951cb19",
   "metadata": {},
   "outputs": [],
   "source": [
    "import os\n",
    "import socket\n",
    "\n",
    "from pyspark.sql import SparkSession\n",
    "from pyspark.sql import functions as F\n",
    "from pyspark.sql.types import *"
   ]
  },
  {
   "cell_type": "code",
   "execution_count": 2,
   "id": "5a8b9ca0-fd14-482e-9686-cf052631e120",
   "metadata": {},
   "outputs": [
    {
     "name": "stdout",
     "output_type": "stream",
     "text": [
      "Spark context started.\n"
     ]
    }
   ],
   "source": [
    "current_pod_ip = socket.gethostbyname(socket.gethostname())\n",
    "\n",
    "sc = SparkSession.builder.master(\"k8s://https://kubernetes.default.svc.cluster.local\")\\\n",
    "        .appName(\"spark\")\\\n",
    "        .config(\"spark.executor.instances\", 1) \\\n",
    "        .config(\"spark.submit.deployMode\", \"client\") \\\n",
    "        .config(\"spark.driver.host\", current_pod_ip) \\\n",
    "        .config(\"spark.driver.bindAddress\", \"0.0.0.0\") \\\n",
    "        .config(\"spark.driver.port\", \"29413\") \\\n",
    "        .config(\"spark.ui.port\", \"4040\") \\\n",
    "        .config(\"spark.kubernetes.namespace\", \"spark\") \\\n",
    "        .config(\"spark.kubernetes.driver.label.app\", \"spark\") \\\n",
    "        .config(\"spark.kubernetes.executor.label.app\", \"spark\") \\\n",
    "        .config(\"spark.kubernetes.container.image\", \"apache/spark:3.5.3\") \\\n",
    "        .config(\"spark.kubernetes.container.image.pullPolicy\", \"Always\") \\\n",
    "        .config(\"spark.kubernetes.authenticate.driver.serviceAccountName\", \"spark\") \\\n",
    "        .config(\"spark.kubernetes.authenticate.executor.serviceAccountName\", \"spark\") \\\n",
    "        .config(\"spark.jars.packages\", \"org.apache.hadoop:hadoop-aws:3.3.4,software.amazon.awssdk:bundle:2.31.30,org.apache.hadoop:hadoop-common:3.3.4\") \\\n",
    "        .config(\"spark.hadoop.fs.s3a.endpoint\", \"http://minio.minio:80\") \\\n",
    "        .config(\"spark.hadoop.fs.s3a.access.key\", \"admin\") \\\n",
    "        .config(\"spark.hadoop.fs.s3a.secret.key\", \"admin123\") \\\n",
    "        .config(\"spark.hadoop.fs.s3a.impl\", \"org.apache.hadoop.fs.s3a.S3AFileSystem\") \\\n",
    "        .config(\"spark.hadoop.fs.s3a.path.style.access\", \"true\") \\\n",
    "        .config(\"spark.hadoop.fs.s3a.connection.ssl.enabled\", \"false\") \\\n",
    "        .config(\"spark.hadoop.fs.s3a.aws.credentials.provider\", \"org.apache.hadoop.fs.s3a.SimpleAWSCredentialsProvider\") \\\n",
    "        .config(\"spark.kubernetes.debug\", \"true\") \\\n",
    "        .getOrCreate()\n",
    "\n",
    "sc.sparkContext.setLogLevel(\"INFO\")\n",
    "print('Spark context started.')"
   ]
  },
  {
   "cell_type": "code",
   "execution_count": 3,
   "id": "23bf3b3a-7c58-454a-afed-c510d52c5eb5",
   "metadata": {},
   "outputs": [],
   "source": [
    "df = sc.read \\\n",
    "    .options(delimeter=',',header=True, inferSchema=True) \\\n",
    "    .csv(\"s3a://weather/weather_data_random.csv\")"
   ]
  },
  {
   "cell_type": "code",
   "execution_count": 4,
   "id": "c3d97b8b-7adb-4ed9-bf0a-182e7a22506d",
   "metadata": {},
   "outputs": [
    {
     "name": "stdout",
     "output_type": "stream",
     "text": [
      "+----------+----------+----------+----------+-----+----------+--------+--------+---------+----+------+----------+----------+--------+----+----+-------+---------+\n",
      "|  datetime|        dt|   sunrise|    sunset| temp|feels_like|pressure|humidity|dew_point| uvi|clouds|visibility|wind_speed|wind_deg|rain|snow|weather|isHoliday|\n",
      "+----------+----------+----------+----------+-----+----------+--------+--------+---------+----+------+----------+----------+--------+----+----+-------+---------+\n",
      "|2024-01-28|1706407200|1706395174|1706431791| 0.51|      0.51|    1030|      51|    -7.51|NULL|    75|   10000.0|      1.03|     350| 0.0| 0.0| Clouds|    false|\n",
      "|2024-01-11|1704974400|1704926810|1704961915|  3.2|      0.27|    1016|      81|     0.26|NULL|    75|    8000.0|      3.09|     250| 0.0| 0.0| Clouds|    false|\n",
      "|2024-01-13|1705158000|1705185974|1705221291|-2.71|     -2.71|    1026|      80|    -5.34|NULL|     0|   10000.0|      1.03|     200| 0.0| 0.0|  Clear|    false|\n",
      "|2024-01-30|1706605200|1706567888|1706604725| 3.78|      1.88|    1027|      45|    -6.26|NULL|     0|   10000.0|      2.06|     310| 0.0| 0.0|  Clear|    false|\n",
      "|2024-01-24|1706112000|1706136090|1706172391|-7.42|    -11.19|    1029|      57|   -13.72|NULL|     0|   10000.0|      2.06|     280| 0.0| 0.0|  Clear|    false|\n",
      "|2024-01-08|1704733200|1704754025|1704789002|-2.01|     -4.88|    1024|      69|    -6.38|NULL|    75|   10000.0|      2.06|     170| 0.0| 0.0| Clouds|    false|\n",
      "|2024-01-15|1705341600|1705358739|1705394213|-7.26|     -7.26|    1032|      73|   -10.83|NULL|     0|   10000.0|      1.03|     330| 0.0| 0.0|  Clear|    false|\n",
      "|2024-01-17|1705482000|1705445119|1705480675| 0.69|     -1.72|    1024|      93|    -0.27|NULL|   100|    2500.0|      2.06|     360| 0.0|0.41|   Rain|    false|\n",
      "|2024-01-31|1706677200|1706654242|1706691192| 9.73|      8.14|    1023|      20|   -10.84|NULL|     0|   10000.0|      3.09|     320| 0.0| 0.0|  Clear|    false|\n",
      "|2024-01-05|1704434400|1704408430|1704443190| 8.35|      5.68|    1019|      66|     2.38|NULL|    39|    4000.0|      4.63|     270| 0.0| 0.0|   Haze|    false|\n",
      "|2024-01-10|1704895200|1704840419|1704875458|-2.87|     -5.89|    1022|      92|    -3.86|NULL|     2|      NULL|      2.07|     222| 0.0| 0.0|  Clear|    false|\n",
      "|2024-01-04|1704373200|1704322026|1704356740| 3.04|      0.08|    1020|      75|    -0.84|NULL|    75|    7000.0|      3.09|     130| 0.0| 0.0| Clouds|    false|\n",
      "|2024-01-17|1705467600|1705445119|1705480675| 0.51|     -2.49|    1026|      93|    -0.43|NULL|   100|    5000.0|      2.57|      30| 0.0|0.27|   Snow|    false|\n",
      "|2024-01-05|1704416400|1704408430|1704443190|  5.8|      4.24|    1021|      76|      1.9|NULL|    40|    3500.0|      2.06|     210| 0.0| 0.0|   Mist|    false|\n",
      "|2024-01-29|1706500800|1706481532|1706518258| 2.32|     -0.79|    1032|      45|    -7.46|NULL|    20|   10000.0|      3.09|     290| 0.0| 0.0| Clouds|    false|\n",
      "|2024-01-13|1705125600|1705099588|1705134831| 4.31|      3.11|    1026|      26|   -12.06|NULL|     0|   10000.0|      1.54|     330| 0.0| 0.0|  Clear|    false|\n",
      "|2024-01-31|1706673600|1706654242|1706691192| 8.29|      7.15|    1024|      25|    -9.42|NULL|     0|    8000.0|      2.06|     320| 0.0| 0.0|  Clear|    false|\n",
      "|2024-01-16|1705374000|1705358739|1705394213|-0.92|     -0.92|    1034|      49|    -9.26|NULL|    82|      NULL|      1.15|     128| 0.0| 0.0| Clouds|    false|\n",
      "|2024-01-18|1705550400|1705531497|1705567137| 5.25|      4.18|    1023|      70|     0.23|NULL|     0|   10000.0|      1.54|     360| 0.0| 0.0|  Clear|    false|\n",
      "|2024-01-27|1706338800|1706308814|1706345324| 3.57|     -0.26|    1027|      56|    -3.88|NULL|    40|   10000.0|      4.63|     290| 0.0| 0.0| Clouds|    false|\n",
      "+----------+----------+----------+----------+-----+----------+--------+--------+---------+----+------+----------+----------+--------+----+----+-------+---------+\n",
      "only showing top 20 rows\n",
      "\n",
      "root\n",
      " |-- datetime: date (nullable = true)\n",
      " |-- dt: integer (nullable = true)\n",
      " |-- sunrise: integer (nullable = true)\n",
      " |-- sunset: integer (nullable = true)\n",
      " |-- temp: double (nullable = true)\n",
      " |-- feels_like: double (nullable = true)\n",
      " |-- pressure: integer (nullable = true)\n",
      " |-- humidity: integer (nullable = true)\n",
      " |-- dew_point: double (nullable = true)\n",
      " |-- uvi: string (nullable = true)\n",
      " |-- clouds: integer (nullable = true)\n",
      " |-- visibility: double (nullable = true)\n",
      " |-- wind_speed: double (nullable = true)\n",
      " |-- wind_deg: integer (nullable = true)\n",
      " |-- rain: double (nullable = true)\n",
      " |-- snow: double (nullable = true)\n",
      " |-- weather: string (nullable = true)\n",
      " |-- isHoliday: boolean (nullable = true)\n",
      "\n"
     ]
    }
   ],
   "source": [
    "df.show()\n",
    "df.printSchema()"
   ]
  },
  {
   "cell_type": "code",
   "execution_count": 5,
   "id": "e2702545-5af2-490d-a196-3bbbec4673d9",
   "metadata": {},
   "outputs": [
    {
     "name": "stdout",
     "output_type": "stream",
     "text": [
      "+----------+----------+----------+----------+-----+----------+--------+--------+---------+------+-----------------+----------+--------+----+----+-------+----------+\n",
      "|  datetime|        dt|   sunrise|    sunset| temp|feels_like|pressure|humidity|dew_point|clouds|       visibility|wind_speed|wind_deg|rain|snow|weather| isHoliday|\n",
      "+----------+----------+----------+----------+-----+----------+--------+--------+---------+------+-----------------+----------+--------+----+----+-------+----------+\n",
      "|2024-01-28|1706407200|1706395174|1706431791| 0.51|      0.51|    1030|      51|    -7.51|    75|          10000.0|      1.03|     350| 0.0| 0.0| Clouds|No Holiday|\n",
      "|2024-01-11|1704974400|1704926810|1704961915|  3.2|      0.27|    1016|      81|     0.26|    75|           8000.0|      3.09|     250| 0.0| 0.0| Clouds|No Holiday|\n",
      "|2024-01-13|1705158000|1705185974|1705221291|-2.71|     -2.71|    1026|      80|    -5.34|     0|          10000.0|      1.03|     200| 0.0| 0.0|  Clear|No Holiday|\n",
      "|2024-01-30|1706605200|1706567888|1706604725| 3.78|      1.88|    1027|      45|    -6.26|     0|          10000.0|      2.06|     310| 0.0| 0.0|  Clear|No Holiday|\n",
      "|2024-01-24|1706112000|1706136090|1706172391|-7.42|    -11.19|    1029|      57|   -13.72|     0|          10000.0|      2.06|     280| 0.0| 0.0|  Clear|No Holiday|\n",
      "|2024-01-08|1704733200|1704754025|1704789002|-2.01|     -4.88|    1024|      69|    -6.38|    75|          10000.0|      2.06|     170| 0.0| 0.0| Clouds|No Holiday|\n",
      "|2024-01-15|1705341600|1705358739|1705394213|-7.26|     -7.26|    1032|      73|   -10.83|     0|          10000.0|      1.03|     330| 0.0| 0.0|  Clear|No Holiday|\n",
      "|2024-01-17|1705482000|1705445119|1705480675| 0.69|     -1.72|    1024|      93|    -0.27|   100|           2500.0|      2.06|     360| 0.0|0.41|   Rain|No Holiday|\n",
      "|2024-01-31|1706677200|1706654242|1706691192| 9.73|      8.14|    1023|      20|   -10.84|     0|          10000.0|      3.09|     320| 0.0| 0.0|  Clear|No Holiday|\n",
      "|2024-01-05|1704434400|1704408430|1704443190| 8.35|      5.68|    1019|      66|     2.38|    39|           4000.0|      4.63|     270| 0.0| 0.0|   Haze|No Holiday|\n",
      "|2024-01-10|1704895200|1704840419|1704875458|-2.87|     -5.89|    1022|      92|    -3.86|     2|9150.339366515836|      2.07|     222| 0.0| 0.0|  Clear|No Holiday|\n",
      "|2024-01-04|1704373200|1704322026|1704356740| 3.04|      0.08|    1020|      75|    -0.84|    75|           7000.0|      3.09|     130| 0.0| 0.0| Clouds|No Holiday|\n",
      "|2024-01-17|1705467600|1705445119|1705480675| 0.51|     -2.49|    1026|      93|    -0.43|   100|           5000.0|      2.57|      30| 0.0|0.27|   Snow|No Holiday|\n",
      "|2024-01-05|1704416400|1704408430|1704443190|  5.8|      4.24|    1021|      76|      1.9|    40|           3500.0|      2.06|     210| 0.0| 0.0|   Mist|No Holiday|\n",
      "|2024-01-29|1706500800|1706481532|1706518258| 2.32|     -0.79|    1032|      45|    -7.46|    20|          10000.0|      3.09|     290| 0.0| 0.0| Clouds|No Holiday|\n",
      "|2024-01-13|1705125600|1705099588|1705134831| 4.31|      3.11|    1026|      26|   -12.06|     0|          10000.0|      1.54|     330| 0.0| 0.0|  Clear|No Holiday|\n",
      "|2024-01-31|1706673600|1706654242|1706691192| 8.29|      7.15|    1024|      25|    -9.42|     0|           8000.0|      2.06|     320| 0.0| 0.0|  Clear|No Holiday|\n",
      "|2024-01-16|1705374000|1705358739|1705394213|-0.92|     -0.92|    1034|      49|    -9.26|    82|9150.339366515836|      1.15|     128| 0.0| 0.0| Clouds|No Holiday|\n",
      "|2024-01-18|1705550400|1705531497|1705567137| 5.25|      4.18|    1023|      70|     0.23|     0|          10000.0|      1.54|     360| 0.0| 0.0|  Clear|No Holiday|\n",
      "|2024-01-27|1706338800|1706308814|1706345324| 3.57|     -0.26|    1027|      56|    -3.88|    40|          10000.0|      4.63|     290| 0.0| 0.0| Clouds|No Holiday|\n",
      "+----------+----------+----------+----------+-----+----------+--------+--------+---------+------+-----------------+----------+--------+----+----+-------+----------+\n",
      "only showing top 20 rows\n",
      "\n"
     ]
    }
   ],
   "source": [
    "df = df.drop('uvi')\n",
    "\n",
    "visibility_mean = df.select(F.mean('visibility')).collect()[0][0]\n",
    "df = df.na.fill({\n",
    "    'visibility': visibility_mean\n",
    "})\n",
    "\n",
    "\n",
    "df = df.withColumn('isHoliday', \n",
    "    F.when(F.col('isHoliday') == False, \"No Holiday\")\n",
    "     .when(F.col('isHoliday') == True, \"Holiday\")\n",
    ")\n",
    "\n",
    "df.show()\n",
    "\n",
    "print(f\"num of null visibility: {df.filter(df.visibility.isNull()).count()}\")"
   ]
  },
  {
   "cell_type": "code",
   "execution_count": 7,
   "id": "923ae332-db00-441a-8fbc-0988177d7e39",
   "metadata": {},
   "outputs": [
    {
     "name": "stdout",
     "output_type": "stream",
     "text": [
      "+-------------------+---------+\n",
      "|       dt_timestamp|hour diff|\n",
      "+-------------------+---------+\n",
      "|2024-01-28 02:00:00|  53978.0|\n",
      "|2024-01-11 12:00:00|  53580.0|\n",
      "|2024-01-13 15:00:00|  53631.0|\n",
      "|2024-01-30 09:00:00|  54033.0|\n",
      "|2024-01-24 16:00:00|  53896.0|\n",
      "|2024-01-08 17:00:00|  53513.0|\n",
      "|2024-01-15 18:00:00|  53682.0|\n",
      "|2024-01-17 09:00:00|  53721.0|\n",
      "|2024-01-31 05:00:00|  54053.0|\n",
      "|2024-01-05 06:00:00|  53430.0|\n",
      "|2024-01-10 14:00:00|  53558.0|\n",
      "|2024-01-04 13:00:00|  53413.0|\n",
      "|2024-01-17 05:00:00|  53717.0|\n",
      "|2024-01-05 01:00:00|  53425.0|\n",
      "|2024-01-29 04:00:00|  54004.0|\n",
      "|2024-01-13 06:00:00|  53622.0|\n",
      "|2024-01-31 04:00:00|  54052.0|\n",
      "|2024-01-16 03:00:00|  53691.0|\n",
      "|2024-01-18 04:00:00|  53740.0|\n",
      "|2024-01-27 07:00:00|  53959.0|\n",
      "+-------------------+---------+\n",
      "only showing top 20 rows\n",
      "\n"
     ]
    }
   ],
   "source": [
    "df = df.withColumn('dt_timestamp', F.to_timestamp(F.col('dt')))\n",
    "df = df.withColumn('hour diff', \n",
    "    (F.unix_timestamp('dt_timestamp') - F.unix_timestamp(F.to_timestamp(F.lit('2017-12-01')))) / 3600)\n",
    "\n",
    "df.select('dt_timestamp', 'hour diff').show()"
   ]
  },
  {
   "cell_type": "code",
   "execution_count": 9,
   "id": "6d202f3a-edbe-4396-9929-cfc26d73ff1a",
   "metadata": {},
   "outputs": [
    {
     "name": "stdout",
     "output_type": "stream",
     "text": [
      "+----------+----+--------------+-----------+----------------+-----------------+------------------------+------------+-------------+-------+----------+---------+---------------+\n",
      "|      Date|Hour|Temperature(C)|Humidity(%)|Wind speed (m/s)| Visibility (10m)|Dew point temperature(C)|Rainfall(mm)|Snowfall (cm)|Seasons|   Holiday|hour diff|Functioning Day|\n",
      "+----------+----+--------------+-----------+----------------+-----------------+------------------------+------------+-------------+-------+----------+---------+---------------+\n",
      "|2024-01-28|   2|          0.51|         51|            1.03|          10000.0|                   -7.51|         0.0|          0.0| Winter|No Holiday|  53978.0|            Yes|\n",
      "|2024-01-11|  12|           3.2|         81|            3.09|           8000.0|                    0.26|         0.0|          0.0| Winter|No Holiday|  53580.0|            Yes|\n",
      "|2024-01-13|  15|         -2.71|         80|            1.03|          10000.0|                   -5.34|         0.0|          0.0| Winter|No Holiday|  53631.0|            Yes|\n",
      "|2024-01-30|   9|          3.78|         45|            2.06|          10000.0|                   -6.26|         0.0|          0.0| Winter|No Holiday|  54033.0|            Yes|\n",
      "|2024-01-24|  16|         -7.42|         57|            2.06|          10000.0|                  -13.72|         0.0|          0.0| Winter|No Holiday|  53896.0|            Yes|\n",
      "|2024-01-08|  17|         -2.01|         69|            2.06|          10000.0|                   -6.38|         0.0|          0.0| Winter|No Holiday|  53513.0|            Yes|\n",
      "|2024-01-15|  18|         -7.26|         73|            1.03|          10000.0|                  -10.83|         0.0|          0.0| Winter|No Holiday|  53682.0|            Yes|\n",
      "|2024-01-17|   9|          0.69|         93|            2.06|           2500.0|                   -0.27|         0.0|         0.41| Winter|No Holiday|  53721.0|            Yes|\n",
      "|2024-01-31|   5|          9.73|         20|            3.09|          10000.0|                  -10.84|         0.0|          0.0| Winter|No Holiday|  54053.0|            Yes|\n",
      "|2024-01-05|   6|          8.35|         66|            4.63|           4000.0|                    2.38|         0.0|          0.0| Winter|No Holiday|  53430.0|            Yes|\n",
      "|2024-01-10|  14|         -2.87|         92|            2.07|9150.339366515836|                   -3.86|         0.0|          0.0| Winter|No Holiday|  53558.0|            Yes|\n",
      "|2024-01-04|  13|          3.04|         75|            3.09|           7000.0|                   -0.84|         0.0|          0.0| Winter|No Holiday|  53413.0|            Yes|\n",
      "|2024-01-17|   5|          0.51|         93|            2.57|           5000.0|                   -0.43|         0.0|         0.27| Winter|No Holiday|  53717.0|            Yes|\n",
      "|2024-01-05|   1|           5.8|         76|            2.06|           3500.0|                     1.9|         0.0|          0.0| Winter|No Holiday|  53425.0|            Yes|\n",
      "|2024-01-29|   4|          2.32|         45|            3.09|          10000.0|                   -7.46|         0.0|          0.0| Winter|No Holiday|  54004.0|            Yes|\n",
      "|2024-01-13|   6|          4.31|         26|            1.54|          10000.0|                  -12.06|         0.0|          0.0| Winter|No Holiday|  53622.0|            Yes|\n",
      "|2024-01-31|   4|          8.29|         25|            2.06|           8000.0|                   -9.42|         0.0|          0.0| Winter|No Holiday|  54052.0|            Yes|\n",
      "|2024-01-16|   3|         -0.92|         49|            1.15|9150.339366515836|                   -9.26|         0.0|          0.0| Winter|No Holiday|  53691.0|            Yes|\n",
      "|2024-01-18|   4|          5.25|         70|            1.54|          10000.0|                    0.23|         0.0|          0.0| Winter|No Holiday|  53740.0|            Yes|\n",
      "|2024-01-27|   7|          3.57|         56|            4.63|          10000.0|                   -3.88|         0.0|          0.0| Winter|No Holiday|  53959.0|            Yes|\n",
      "+----------+----+--------------+-----------+----------------+-----------------+------------------------+------------+-------------+-------+----------+---------+---------------+\n",
      "only showing top 20 rows\n",
      "\n"
     ]
    }
   ],
   "source": [
    "df_x = df.select(\n",
    "    # Date와 Hour 컬럼 생성\n",
    "    F.to_date('dt_timestamp').alias('Date'),\n",
    "    F.hour('dt_timestamp').alias('Hour'),\n",
    "    \n",
    "    # 기존 컬럼들을 새로운 이름으로 매핑\n",
    "    F.col('temp').alias('Temperature(C)'),\n",
    "    F.col('humidity').alias('Humidity(%)'),\n",
    "    F.col('wind_speed').alias('Wind speed (m/s)'),\n",
    "    F.col('visibility').alias('Visibility (10m)'),\n",
    "    F.col('dew_point').alias('Dew point temperature(C)'),\n",
    "    \n",
    "    # 비와 눈 데이터 변환\n",
    "    F.col('rain').alias('Rainfall(mm)'),\n",
    "    F.col('snow').alias('Snowfall (cm)'),\n",
    "    \n",
    "    # 계절 추가 (날짜 기반으로 계절 계산)\n",
    "    F.when((F.month('datetime').isin(12, 1, 2)), 'Winter')\n",
    "     .when((F.month('datetime').isin(3, 4, 5)), 'Spring')\n",
    "     .when((F.month('datetime').isin(6, 7, 8)), 'Summer')\n",
    "     .when((F.month('datetime').isin(9, 10, 11)), 'Fall')\n",
    "     .alias('Seasons'),\n",
    "    \n",
    "    F.col('isHoliday').alias('Holiday'),\n",
    "    F.col(\"hour diff\"),\n",
    "    # Functioning Day는 모두 'Yes'로 설정 (실제 상황에 맞게 수정 필요)\n",
    "    F.lit('Yes').alias('Functioning Day')\n",
    ")\n",
    "df_x.show()"
   ]
  },
  {
   "cell_type": "code",
   "execution_count": 10,
   "id": "6e5183ca-25c4-48c6-a341-a5cee045dfdb",
   "metadata": {},
   "outputs": [
    {
     "name": "stderr",
     "output_type": "stream",
     "text": [
      "/usr/local/spark/python/pyspark/sql/column.py:460: FutureWarning: A column as 'key' in getItem is deprecated as of Spark 3.0, and will not be supported in the future release. Use `column[key]` or `column.key` syntax instead.\n",
      "  warnings.warn(\n"
     ]
    }
   ],
   "source": [
    "import pickle\n",
    "with open('label_encoders.pkl', 'rb') as f:\n",
    "    encoders = pickle.load(f)\n",
    "\n",
    "# 매핑 딕셔너리 생성\n",
    "mappings = {\n",
    "    'Seasons': dict(zip(encoders['Seasons'].classes_, encoders['Seasons'].transform(encoders['Seasons'].classes_))),\n",
    "    'Holiday': dict(zip(encoders['Holiday'].classes_, encoders['Holiday'].transform(encoders['Holiday'].classes_))),\n",
    "    'Functioning Day': dict(zip(encoders['Functioning Day'].classes_, encoders['Functioning Day'].transform(encoders['Functioning Day'].classes_)))\n",
    "}\n",
    "\n",
    "mapping_expr = {\n",
    "    col: F.create_map([F.lit(x) for x in sum(mapping.items(), ())]) \n",
    "    for col, mapping in mappings.items()\n",
    "}\n",
    "\n",
    "# 한 번에 모든 컬럼에 매핑 적용\n",
    "for col, expr in mapping_expr.items():\n",
    "    df_x = df_x.withColumn(col, expr.getItem(F.col(col)).cast('integer'))"
   ]
  },
  {
   "cell_type": "code",
   "execution_count": 11,
   "id": "bc5932cc-ad8a-4166-a475-22a2cec302fa",
   "metadata": {},
   "outputs": [
    {
     "name": "stdout",
     "output_type": "stream",
     "text": [
      "+----+--------------+-----------+----------------+-----------------+------------------------+------------+-------------+-------+-------+---------+---------------+----------+\n",
      "|Hour|Temperature(C)|Humidity(%)|Wind speed (m/s)| Visibility (10m)|Dew point temperature(C)|Rainfall(mm)|Snowfall (cm)|Seasons|Holiday|hour diff|Functioning Day|rental_cnt|\n",
      "+----+--------------+-----------+----------------+-----------------+------------------------+------------+-------------+-------+-------+---------+---------------+----------+\n",
      "|   2|          0.51|         51|            1.03|          10000.0|                   -7.51|         0.0|          0.0|      3|      1|  53978.0|              1|       761|\n",
      "|  12|           3.2|         81|            3.09|           8000.0|                    0.26|         0.0|          0.0|      3|      1|  53580.0|              1|      3153|\n",
      "|  15|         -2.71|         80|            1.03|          10000.0|                   -5.34|         0.0|          0.0|      3|      1|  53631.0|              1|      4472|\n",
      "|   9|          3.78|         45|            2.06|          10000.0|                   -6.26|         0.0|          0.0|      3|      1|  54033.0|              1|      3800|\n",
      "|  16|         -7.42|         57|            2.06|          10000.0|                  -13.72|         0.0|          0.0|      3|      1|  53896.0|              1|      2769|\n",
      "|  17|         -2.01|         69|            2.06|          10000.0|                   -6.38|         0.0|          0.0|      3|      1|  53513.0|              1|      5152|\n",
      "|  18|         -7.26|         73|            1.03|          10000.0|                  -10.83|         0.0|          0.0|      3|      1|  53682.0|              1|      6979|\n",
      "|   9|          0.69|         93|            2.06|           2500.0|                   -0.27|         0.0|         0.41|      3|      1|  53721.0|              1|      4055|\n",
      "|   5|          9.73|         20|            3.09|          10000.0|                  -10.84|         0.0|          0.0|      3|      1|  54053.0|              1|       964|\n",
      "|   6|          8.35|         66|            4.63|           4000.0|                    2.38|         0.0|          0.0|      3|      1|  53430.0|              1|      2173|\n",
      "|  14|         -2.87|         92|            2.07|9150.339366515836|                   -3.86|         0.0|          0.0|      3|      1|  53558.0|              1|      2934|\n",
      "|  13|          3.04|         75|            3.09|           7000.0|                   -0.84|         0.0|          0.0|      3|      1|  53413.0|              1|      3497|\n",
      "|   5|          0.51|         93|            2.57|           5000.0|                   -0.43|         0.0|         0.27|      3|      1|  53717.0|              1|      1028|\n",
      "|   1|           5.8|         76|            2.06|           3500.0|                     1.9|         0.0|          0.0|      3|      1|  53425.0|              1|      1335|\n",
      "|   4|          2.32|         45|            3.09|          10000.0|                   -7.46|         0.0|          0.0|      3|      1|  54004.0|              1|       417|\n",
      "|   6|          4.31|         26|            1.54|          10000.0|                  -12.06|         0.0|          0.0|      3|      1|  53622.0|              1|       820|\n",
      "|   4|          8.29|         25|            2.06|           8000.0|                   -9.42|         0.0|          0.0|      3|      1|  54052.0|              1|       734|\n",
      "|   3|         -0.92|         49|            1.15|9150.339366515836|                   -9.26|         0.0|          0.0|      3|      1|  53691.0|              1|       458|\n",
      "|   4|          5.25|         70|            1.54|          10000.0|                    0.23|         0.0|          0.0|      3|      1|  53740.0|              1|       375|\n",
      "|   7|          3.57|         56|            4.63|          10000.0|                   -3.88|         0.0|          0.0|      3|      1|  53959.0|              1|      1129|\n",
      "+----+--------------+-----------+----------------+-----------------+------------------------+------------+-------------+-------+-------+---------+---------------+----------+\n",
      "only showing top 20 rows\n",
      "\n"
     ]
    }
   ],
   "source": [
    "df_y = sc.read \\\n",
    "    .options(delimeter=',',header=True, inferSchema=True) \\\n",
    "    .csv(\"s3a://weather/rental_bike_count.csv\")\n",
    "\n",
    "df_y = df_y.withColumn(\"datetime\", F.to_timestamp(F.col(\"datetime\").cast(\"string\"), \"yyyyMMdd\"))\n",
    "\n",
    "\n",
    "df_y = df_y.withColumn(\"date_hour\", \n",
    "    F.concat(\n",
    "        F.date_format(\"datetime\", \"yyyy-MM-dd\"),\n",
    "        F.lit(\" \"),\n",
    "        F.lpad(F.col(\"hour\").cast(\"string\"), 2, \"0\")  # 기존 hour 컬럼 사용\n",
    "    ))\n",
    "\n",
    "df_x = df_x.withColumn(\"date_hour\", \n",
    "    F.concat(\n",
    "        F.col(\"Date\"),\n",
    "        F.lit(\" \"), \n",
    "        F.lpad(F.col(\"Hour\").cast(\"string\"), 2, \"0\")\n",
    "    ))\n",
    "\n",
    "merged_df = df_x.join(df_y, \n",
    "    (df_x.date_hour == df_y.date_hour),\n",
    "    \"left\")  # left join 사용, 필요에 따라 'inner', 'right' 등으로 변경 가능\n",
    "\n",
    "\n",
    "merged_df = merged_df.drop(df_y.hour, \"Date\", \"date_hour\", \"datetime\")\n",
    "merged_df.show()"
   ]
  },
  {
   "cell_type": "code",
   "execution_count": 12,
   "id": "d582152c-2d7f-45cb-b43b-dc0a683d33ae",
   "metadata": {},
   "outputs": [],
   "source": [
    "merged_df.write \\\n",
    "    .mode('overwrite') \\\n",
    "    .parquet('s3a://weather/weather_data_random_preprocessing')\n",
    "\n",
    "sc.stop()"
   ]
  }
 ],
 "metadata": {
  "kernelspec": {
   "display_name": "Python 3 (ipykernel)",
   "language": "python",
   "name": "python3"
  },
  "language_info": {
   "codemirror_mode": {
    "name": "ipython",
    "version": 3
   },
   "file_extension": ".py",
   "mimetype": "text/x-python",
   "name": "python",
   "nbconvert_exporter": "python",
   "pygments_lexer": "ipython3",
   "version": "3.11.10"
  }
 },
 "nbformat": 4,
 "nbformat_minor": 5
}
